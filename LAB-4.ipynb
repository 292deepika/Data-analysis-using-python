{
 "cells": [
  {
   "cell_type": "code",
   "execution_count": 1,
   "id": "58d82479",
   "metadata": {
    "scrolled": true
   },
   "outputs": [
    {
     "name": "stdout",
     "output_type": "stream",
     "text": [
      "Deepika\n",
      "Btech\n"
     ]
    }
   ],
   "source": [
    "#Dictionaries\n",
    "dict={'name':'Deepika','designation':'Student','qual':'Btech','univ':'cmr'}\n",
    "print(dict['name'])\n",
    "   \n",
    "print(dict['qual'])"
   ]
  },
  {
   "cell_type": "code",
   "execution_count": 2,
   "id": "2adeb7ff",
   "metadata": {},
   "outputs": [
    {
     "name": "stdout",
     "output_type": "stream",
     "text": [
      "deepika\n",
      "cse7sem\n"
     ]
    }
   ],
   "source": [
    "dict={'name':'anu','designation':'student','qual':'student','univ':'cmr'}\n",
    "dict['name']='deepika'\n",
    "    \n",
    "print(dict['name'])\n",
    "\n",
    "dict['class']='cse7sem'\n",
    "    \n",
    "print(dict['class'])"
   ]
  },
  {
   "cell_type": "code",
   "execution_count": 3,
   "id": "da26f8b6",
   "metadata": {},
   "outputs": [
    {
     "name": "stdout",
     "output_type": "stream",
     "text": [
      "Student\n",
      "DEEPIKA\n"
     ]
    }
   ],
   "source": [
    "dict={'name':'DEEPIKA','designation':'Student','qual':'btech','univ':'cmr'}\n",
    "  \n",
    "print(dict['designation'])\n",
    "  \n",
    "#dict.clear()\n",
    "  \n",
    "print(dict['name'])\n",
    "    \n",
    "del dict"
   ]
  },
  {
   "cell_type": "code",
   "execution_count": 4,
   "id": "10c354b3",
   "metadata": {},
   "outputs": [
    {
     "name": "stdout",
     "output_type": "stream",
     "text": [
      "Rinku\n",
      "4\n"
     ]
    }
   ],
   "source": [
    "dict = {\n",
    "  \"name\": \"Anu\",\n",
    "  \"designation\": \"Student\",\n",
    "  \"qual\": \"btech\",\n",
    "  \"year\": 2021,\n",
    "  \"name\": \"Rinku\",\n",
    "}\n",
    "print(dict['name'])\n",
    "print(len(dict))"
   ]
  },
  {
   "cell_type": "code",
   "execution_count": 5,
   "id": "28572c6f",
   "metadata": {},
   "outputs": [
    {
     "name": "stdout",
     "output_type": "stream",
     "text": [
      "dict_values(['Deepika', 'student', 'btech', 'cmr'])\n",
      "dict_items([('name', 'Deepika'), ('designation', 'student'), ('qual', 'btech'), ('univ', 'cmr')])\n",
      "dict_keys(['name', 'designation', 'qual', 'univ'])\n"
     ]
    }
   ],
   "source": [
    "dict={'name':'Anu','designation':'student','qual':'btech','univ':'cmr', 'name':'Deepika'}\n",
    "    \n",
    "    \n",
    "print(dict.values())\n",
    "print(dict.items())\n",
    "  \n",
    "print(dict.keys())"
   ]
  },
  {
   "cell_type": "code",
   "execution_count": 7,
   "id": "6540d955",
   "metadata": {},
   "outputs": [
    {
     "name": "stdout",
     "output_type": "stream",
     "text": [
      "Deepika\n",
      "btech\n"
     ]
    }
   ],
   "source": [
    "dict={'name':'anu','designation':'AsP','qual':'phd','univ':'cmr', 'name':'Deepika'}\n",
    "    \n",
    "print(dict['name'])\n",
    "    \n",
    "print(dict.get('edu',\"btech\"))"
   ]
  },
  {
   "cell_type": "code",
   "execution_count": 8,
   "id": "da5c430d",
   "metadata": {},
   "outputs": [
    {
     "name": "stdout",
     "output_type": "stream",
     "text": [
      "Deepika\n",
      "4\n"
     ]
    }
   ],
   "source": [
    "dict={'name':'Anu','designation':'AsP','qual':'phd','univ':'cmr', 'name':'Deepika'}\n",
    "  \n",
    "dict2=dict.copy()\n",
    "    \n",
    "print(dict2['name'])\n",
    "  \n",
    "print(len(dict2))"
   ]
  },
  {
   "cell_type": "code",
   "execution_count": 10,
   "id": "e723240d",
   "metadata": {},
   "outputs": [
    {
     "name": "stdout",
     "output_type": "stream",
     "text": [
      "{'name': 'Deepika', 'designation': 'AsP', 'qual': 'phd', 'univ': 'cmr'}\n",
      "{'education': 'btech', 'branch': '7sem A'}\n",
      "{'name': 'Deepika', 'designation': 'AsP', 'qual': 'phd', 'univ': 'cmr', 'education': 'btech', 'branch': '7sem A'}\n"
     ]
    }
   ],
   "source": [
    "dict={'name':'Anu','designation':'AsP','qual':'phd','univ':'cmr', 'name':'Deepika'}\n",
    "dict2={'education':'btech','branch':'7sem A'}\n",
    "print(dict)\n",
    "print(dict2)\n",
    "  \n",
    "dict.update(dict2)\n",
    "    \n",
    "print(dict)\n"
   ]
  },
  {
   "cell_type": "code",
   "execution_count": 16,
   "id": "7d171931",
   "metadata": {},
   "outputs": [
    {
     "name": "stdout",
     "output_type": "stream",
     "text": [
      "('cse', 'it', 'mech')\n",
      "(1, 23, 4, 5, 5, 6)\n",
      "('abc', 'def')\n"
     ]
    }
   ],
   "source": [
    "#Tuples\n",
    "tup= ('cse','it','mech')\n",
    "print(tup)\n",
    "tup1=(1,23,4,5,5,6)\n",
    "print(tup1)\n",
    "tup2=\"abc\",\"def\"\n",
    "print(tup2)\n",
    "   \n"
   ]
  },
  {
   "cell_type": "code",
   "execution_count": 17,
   "id": "0b42e39e",
   "metadata": {},
   "outputs": [
    {
     "name": "stdout",
     "output_type": "stream",
     "text": [
      "()\n"
     ]
    }
   ],
   "source": [
    "tup1 = ()\n",
    "print(tup1)\n"
   ]
  },
  {
   "cell_type": "code",
   "execution_count": 18,
   "id": "4cfa9eaf",
   "metadata": {},
   "outputs": [
    {
     "name": "stdout",
     "output_type": "stream",
     "text": [
      "50\n"
     ]
    }
   ],
   "source": [
    "tup1 = (50)\n",
    "print(tup1)\n"
   ]
  },
  {
   "cell_type": "code",
   "execution_count": 21,
   "id": "4d159318",
   "metadata": {},
   "outputs": [
    {
     "name": "stdout",
     "output_type": "stream",
     "text": [
      "cse\n",
      "ece\n",
      "('mech', 'ece')\n"
     ]
    }
   ],
   "source": [
    "tup= ('cse','it','mech','ece','electrical')\n",
    "print(tup[0]),\n",
    "print(tup[3]),\n",
    "print(tup[2:4])\n",
    "   \n"
   ]
  },
  {
   "cell_type": "code",
   "execution_count": 22,
   "id": "a9cc167f",
   "metadata": {},
   "outputs": [
    {
     "name": "stdout",
     "output_type": "stream",
     "text": [
      "('cse', 'it', 'mech', 'ece', 'electrical')\n"
     ]
    },
    {
     "ename": "NameError",
     "evalue": "name 'tup1' is not defined",
     "output_type": "error",
     "traceback": [
      "\u001b[1;31m---------------------------------------------------------------------------\u001b[0m",
      "\u001b[1;31mNameError\u001b[0m                                 Traceback (most recent call last)",
      "\u001b[1;32m<ipython-input-22-f0e3be02146e>\u001b[0m in \u001b[0;36m<module>\u001b[1;34m\u001b[0m\n\u001b[0;32m      3\u001b[0m \u001b[1;33m\u001b[0m\u001b[0m\n\u001b[0;32m      4\u001b[0m \u001b[1;32mdel\u001b[0m\u001b[1;33m(\u001b[0m\u001b[0mtup1\u001b[0m\u001b[1;33m)\u001b[0m\u001b[1;33m\u001b[0m\u001b[1;33m\u001b[0m\u001b[0m\n\u001b[1;32m----> 5\u001b[1;33m \u001b[0mprint\u001b[0m\u001b[1;33m(\u001b[0m\u001b[0mtup1\u001b[0m\u001b[1;33m)\u001b[0m\u001b[1;33m\u001b[0m\u001b[1;33m\u001b[0m\u001b[0m\n\u001b[0m",
      "\u001b[1;31mNameError\u001b[0m: name 'tup1' is not defined"
     ]
    }
   ],
   "source": [
    "tup1= ('cse','it','mech','ece','electrical')\n",
    "print(tup1)\n",
    "\n",
    "del(tup1)\n",
    "print(tup1)\n"
   ]
  },
  {
   "cell_type": "code",
   "execution_count": 24,
   "id": "18cf341e",
   "metadata": {},
   "outputs": [
    {
     "name": "stdout",
     "output_type": "stream",
     "text": [
      "('cse', 'it', 'mech', 'ece', 'electrical')\n",
      "('deepika', 'anshu', 'hema', 'shak')\n",
      "('cse', 'it', 'mech', 'ece', 'electrical', 'deepika', 'anshu', 'hema', 'shak')\n"
     ]
    }
   ],
   "source": [
    "tup1= ('cse','it','mech','ece','electrical')\n",
    "print(tup1)\n",
    "tup2= ('deepika','anshu','hema','shak')\n",
    "print(tup2)\n",
    "  \n",
    "tup3=tup1+tup2\n",
    "print(tup3)\n"
   ]
  },
  {
   "cell_type": "code",
   "execution_count": 29,
   "id": "58e2de53",
   "metadata": {},
   "outputs": [
    {
     "name": "stdout",
     "output_type": "stream",
     "text": [
      "('cse', 'it', 'mech', 'ece', 'electrical')\n",
      "value at 3rd loc=  electrical\n"
     ]
    },
    {
     "ename": "TypeError",
     "evalue": "'tuple' object does not support item assignment",
     "output_type": "error",
     "traceback": [
      "\u001b[1;31m---------------------------------------------------------------------------\u001b[0m",
      "\u001b[1;31mTypeError\u001b[0m                                 Traceback (most recent call last)",
      "\u001b[1;32m<ipython-input-29-a0305a71bd69>\u001b[0m in \u001b[0;36m<module>\u001b[1;34m\u001b[0m\n\u001b[0;32m      4\u001b[0m \u001b[0mprint\u001b[0m\u001b[1;33m(\u001b[0m\u001b[1;34m\"value at 3rd loc= \"\u001b[0m\u001b[1;33m,\u001b[0m\u001b[0mtup1\u001b[0m\u001b[1;33m[\u001b[0m\u001b[1;36m4\u001b[0m\u001b[1;33m]\u001b[0m\u001b[1;33m)\u001b[0m\u001b[1;33m\u001b[0m\u001b[1;33m\u001b[0m\u001b[0m\n\u001b[0;32m      5\u001b[0m \u001b[1;33m\u001b[0m\u001b[0m\n\u001b[1;32m----> 6\u001b[1;33m \u001b[0mtup1\u001b[0m\u001b[1;33m[\u001b[0m\u001b[1;36m4\u001b[0m\u001b[1;33m]\u001b[0m\u001b[1;33m=\u001b[0m\u001b[1;34m\"civil\"\u001b[0m \u001b[1;31m#not allowed\u001b[0m\u001b[1;33m\u001b[0m\u001b[1;33m\u001b[0m\u001b[0m\n\u001b[0m\u001b[0;32m      7\u001b[0m \u001b[0mprint\u001b[0m\u001b[1;33m(\u001b[0m\u001b[1;34m\"UPDATED value at 3rd loc= \"\u001b[0m\u001b[1;33m,\u001b[0m\u001b[0mtup1\u001b[0m\u001b[1;33m[\u001b[0m\u001b[1;36m4\u001b[0m\u001b[1;33m]\u001b[0m\u001b[1;33m)\u001b[0m\u001b[1;33m\u001b[0m\u001b[1;33m\u001b[0m\u001b[0m\n",
      "\u001b[1;31mTypeError\u001b[0m: 'tuple' object does not support item assignment"
     ]
    }
   ],
   "source": [
    "tup1= ('cse','it','mech','ece','electrical')\n",
    "print(tup1)\n",
    "\n",
    "print(\"value at 3rd loc= \",tup1[4])\n",
    "    \n",
    "tup1[4]=\"civil\" #not allowed\n",
    "print(\"UPDATED value at 3rd loc= \",tup1[4])\n"
   ]
  },
  {
   "cell_type": "code",
   "execution_count": 31,
   "id": "b97a6738",
   "metadata": {},
   "outputs": [
    {
     "name": "stdout",
     "output_type": "stream",
     "text": [
      "('cse', 'it', 'mech', 'civil', 'ece', 'electrical')\n",
      "('deepika', 'nishitha', 'anu')\n",
      "6\n",
      "3\n",
      "6\n"
     ]
    }
   ],
   "source": [
    "tup1= ('cse','it','mech','civil','ece','electrical')\n",
    "print(tup1)\n",
    "tup2= ('deepika','nishitha','anu')\n",
    "print(tup2)\n",
    "a=len(tup1)\n",
    "b=len(tup2)\n",
    "print(a)\n",
    "print(b)\n",
    "    \n",
    "print(len(tup1))\n"
   ]
  },
  {
   "cell_type": "code",
   "execution_count": 33,
   "id": "9d11176c",
   "metadata": {},
   "outputs": [
    {
     "name": "stdout",
     "output_type": "stream",
     "text": [
      "('cse', 'it', 'mech', 'civil', 'ece', 'electrical')\n",
      "('deepika', 'anshu', 'hema')\n",
      "mech\n"
     ]
    }
   ],
   "source": [
    "tup1= ('cse','it','mech','civil','ece','electrical')\n",
    "print(tup1)\n",
    "tup2= ('deepika','anshu','hema')\n",
    "print(tup2)\n",
    "print(max(tup1))\n"
   ]
  },
  {
   "cell_type": "code",
   "execution_count": 35,
   "id": "bea80780",
   "metadata": {},
   "outputs": [
    {
     "name": "stdout",
     "output_type": "stream",
     "text": [
      "Python is really a great language, isn't it?\n"
     ]
    }
   ],
   "source": [
    "#Files\n",
    "print(\"Python is really a great language,\", \"isn't it?\")"
   ]
  },
  {
   "cell_type": "code",
   "execution_count": 36,
   "id": "28a19df2",
   "metadata": {},
   "outputs": [
    {
     "name": "stdout",
     "output_type": "stream",
     "text": [
      "Enter your input: HI HOW ARE YOU?\n",
      "Received input is :  HI HOW ARE YOU?\n"
     ]
    }
   ],
   "source": [
    "str = input(\"Enter your input: \")\n",
    "print (\"Received input is : \", str)\n"
   ]
  },
  {
   "cell_type": "code",
   "execution_count": 55,
   "id": "3b94e10b",
   "metadata": {},
   "outputs": [
    {
     "name": "stdout",
     "output_type": "stream",
     "text": [
      "Name of the file:  Deepika\n"
     ]
    }
   ],
   "source": [
    "    # Open a file\\n\n",
    "fo = open(\"Deepika\", \"wb\")\n",
    "print (\"Name of the file: \", fo.name)\n",
    "    \n",
    "# Close opend file\n",
    "fo.close()\n"
   ]
  },
  {
   "cell_type": "code",
   "execution_count": 60,
   "id": "c2c51906",
   "metadata": {},
   "outputs": [
    {
     "name": "stdout",
     "output_type": "stream",
     "text": [
      "deepikadeepika\n"
     ]
    }
   ],
   "source": [
    "\n",
    "f = open(\"Deepika\",\"a\" )\n",
    "f.write('deepika')\n",
    "f.close()\n",
    "#open and read the file after the appending:\\n\",\n",
    "f = open(\"Deepika\", \"r\")\n",
    "print(f.read()) \n"
   ]
  },
  {
   "cell_type": "code",
   "execution_count": 71,
   "id": "84248bc7",
   "metadata": {},
   "outputs": [
    {
     "name": "stdout",
     "output_type": "stream",
     "text": [
      "Name of the file:  Deepika.txt\n",
      "Closed or not :  False\n",
      "Opening mode :  wb\n"
     ]
    }
   ],
   "source": [
    "fo = open(\"Deepika.txt\", \"wb\")\n",
    "print (\"Name of the file: \", fo.name)\n",
    "print (\"Closed or not : \", fo.closed)\n",
    "print (\"Opening mode : \", fo.mode)\n"
   ]
  },
  {
   "cell_type": "code",
   "execution_count": null,
   "id": "9f84c3ad",
   "metadata": {},
   "outputs": [],
   "source": [
    "\n"
   ]
  },
  {
   "cell_type": "code",
   "execution_count": null,
   "id": "7aa6ae1d",
   "metadata": {},
   "outputs": [],
   "source": []
  }
 ],
 "metadata": {
  "kernelspec": {
   "display_name": "Python 3",
   "language": "python",
   "name": "python3"
  },
  "language_info": {
   "codemirror_mode": {
    "name": "ipython",
    "version": 3
   },
   "file_extension": ".py",
   "mimetype": "text/x-python",
   "name": "python",
   "nbconvert_exporter": "python",
   "pygments_lexer": "ipython3",
   "version": "3.8.8"
  }
 },
 "nbformat": 4,
 "nbformat_minor": 5
}
