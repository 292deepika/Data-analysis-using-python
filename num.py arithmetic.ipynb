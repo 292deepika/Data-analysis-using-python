{
 "cells": [
  {
   "cell_type": "code",
   "execution_count": 2,
   "id": "527f193d",
   "metadata": {},
   "outputs": [
    {
     "name": "stdout",
     "output_type": "stream",
     "text": [
      "[1 2 3]\n"
     ]
    }
   ],
   "source": [
    "import numpy as np\n",
    "npa= np.array([1, 2, 3])\n",
    "print(npa)\n"
   ]
  },
  {
   "cell_type": "code",
   "execution_count": 3,
   "id": "04e7881e",
   "metadata": {},
   "outputs": [
    {
     "name": "stdout",
     "output_type": "stream",
     "text": [
      "[[ 1  2  3  4]\n",
      " [ 5  6  7  8]\n",
      " [ 9 10 11 12]]\n"
     ]
    }
   ],
   "source": [
    "import numpy as np\n",
    "a = np.array([[1 , 2, 3, 4], [5, 6, 7, 8], [9, 10, 11, 12]])\n",
    "print(a)\n"
   ]
  },
  {
   "cell_type": "code",
   "execution_count": 4,
   "id": "0c3b7074",
   "metadata": {},
   "outputs": [
    {
     "name": "stdout",
     "output_type": "stream",
     "text": [
      "[0. 0.]\n"
     ]
    }
   ],
   "source": [
    "import numpy as np\n",
    "a=np.zeros(2)\n",
    "print(a)\n"
   ]
  },
  {
   "cell_type": "code",
   "execution_count": 5,
   "id": "cbfffeba",
   "metadata": {},
   "outputs": [
    {
     "name": "stdout",
     "output_type": "stream",
     "text": [
      "[1. 1. 1. 1.]\n"
     ]
    }
   ],
   "source": [
    "import numpy as np\n",
    "a=np.ones(4)\n",
    "print(a)\n"
   ]
  },
  {
   "cell_type": "code",
   "execution_count": 6,
   "id": "e9afff9e",
   "metadata": {},
   "outputs": [
    {
     "name": "stdout",
     "output_type": "stream",
     "text": [
      "[1. 1. 1. 1.]\n"
     ]
    }
   ],
   "source": [
    "import numpy as np\n",
    "ab=np.empty(4)\n",
    "print(ab)\n"
   ]
  },
  {
   "cell_type": "code",
   "execution_count": 7,
   "id": "dc828b8c",
   "metadata": {},
   "outputs": [
    {
     "name": "stdout",
     "output_type": "stream",
     "text": [
      "[0 1 2 3 4 5 6]\n"
     ]
    }
   ],
   "source": [
    "import numpy as np\n",
    "a=np.arange(7)\n",
    "print(a)\n"
   ]
  },
  {
   "cell_type": "code",
   "execution_count": 8,
   "id": "6cb6af20",
   "metadata": {},
   "outputs": [
    {
     "name": "stdout",
     "output_type": "stream",
     "text": [
      "Print A=  9\n",
      "Print B=  [10 20 30]\n",
      "After Addition = [19 29 39]\n",
      "After Subtraction = [ 1 11 21]\n",
      "After Multiplcation = [ 90 180 270]\n",
      "After Division = [1.11111111 2.22222222 3.33333333]\n",
      "After Division = [2. 4. 6.]\n"
     ]
    }
   ],
   "source": [
    "import numpy as np\n",
    "\n",
    "a=np.array(9)\n",
    "\n",
    "print(\"Print A= \",a)\n",
    "b=np.array([10,20,30])\n",
    "    \n",
    "print(\"Print B= \", b)\n",
    "addition= np.add(a,b)\n",
    "\n",
    "print(\"After Addition =\", addition)\n",
    "    \n",
    "sub=np.subtract(b,a)\n",
    "    \n",
    "print(\"After Subtraction =\",sub)\n",
    "\n",
    "mul=np.multiply (a,b)\n",
    "    \n",
    "print(\"After Multiplcation =\",mul)\n",
    "    \n",
    "div=np.divide (b,a)\n",
    "    \n",
    "print(\"After Division =\",div)\n",
    "\n",
    "div1=np.divide (b,5)\n",
    "    \n",
    "print(\"After Division =\",div1)\n"
   ]
  },
  {
   "cell_type": "code",
   "execution_count": 9,
   "id": "82deed46",
   "metadata": {},
   "outputs": [
    {
     "name": "stdout",
     "output_type": "stream",
     "text": [
      "[  0.25   1.33   1.   111.  ]\n",
      "[4.         0.7518797  1.         0.00900901]\n"
     ]
    }
   ],
   "source": [
    "#reciprocal\n",
    "\n",
    "a= np.array([0.25,1.33,1,111])\n",
    "    \n",
    "print(a)\n",
    "    \n",
    "rec=np.reciprocal(a) \n",
    "print(rec)\n"
   ]
  },
  {
   "cell_type": "code",
   "execution_count": 10,
   "id": "9845954e",
   "metadata": {},
   "outputs": [
    {
     "name": "stdout",
     "output_type": "stream",
     "text": [
      "[  10  100 1000]\n",
      "after ^2 =  [    100   10000 1000000]\n",
      "after b array elements as ^ =  [    100 1000000    1000]\n"
     ]
    }
   ],
   "source": [
    "a=np.array([10,100,1000])\n",
    "print(a)\n",
    "\n",
    "pow=np.power(a,2)\n",
    "print(\"after ^2 = \", pow)\n",
    "   \n",
    "b=np.array([2,3,1])\n",
    "    \n",
    "pow1=np.power(a,b)\n",
    "print(\"after b array elements as ^ = \", pow1)\n",
    "   \n"
   ]
  },
  {
   "cell_type": "code",
   "execution_count": 11,
   "id": "582a918d",
   "metadata": {},
   "outputs": [
    {
     "name": "stdout",
     "output_type": "stream",
     "text": [
      "values of A= [10 20 30]\n",
      "values of B= [3 5 7]\n",
      "values of MOD= [1 0 2]\n",
      "values of REMAINDER= [1 0 2]\n"
     ]
    }
   ],
   "source": [
    "a= np.array ([10,20,30])\n",
    "b= np.array ([3,5,7])\n",
    "    \n",
    "print(\"values of A=\", a)\n",
    "print(\"values of B=\", b)\n",
    "    \n",
    "mm=np.mod(a,b)\n",
    "    \n",
    "rm=np.remainder(a,b)\n",
    "    \n",
    "print(\"values of MOD=\", mm)\n",
    "print(\"values of REMAINDER=\", rm)\n"
   ]
  },
  {
   "cell_type": "code",
   "execution_count": 12,
   "id": "d5af77cb",
   "metadata": {},
   "outputs": [
    {
     "name": "stdout",
     "output_type": "stream",
     "text": [
      "[-0.-5.6j  0.+0.2j 11.+0.j   1.+1.j ]\n",
      "real= [-0.  0. 11.  1.]\n",
      "imaginary= [-5.6  0.2  0.   1. ]\n",
      "Conjugate= [-0.+5.6j  0.-0.2j 11.-0.j   1.-1.j ]\n"
     ]
    }
   ],
   "source": [
    "a=np.array([-5.6j, 0.2j,11, 1+1j])\n",
    "print(a)\n",
    "    \n",
    "print(\"real=\",np.real(a))\n",
    "    \n",
    "print(\"imaginary=\",np.imag(a))\n",
    "    \n",
    "print(\"Conjugate=\", np.conj(a))\n"
   ]
  },
  {
   "cell_type": "code",
   "execution_count": 13,
   "id": "8009fc1e",
   "metadata": {},
   "outputs": [
    {
     "name": "stdout",
     "output_type": "stream",
     "text": [
      "[  1.     5.3  123.     0.56  25.5   32.  ]\n",
      "after rounding up= [  1.   5. 123.   1.  26.  32.]\n",
      "after rounding up to 1st decimal value = [  1.    5.3 123.    0.6  25.5  32. ]\n"
     ]
    }
   ],
   "source": [
    "a=np.array ([1.0,5.3,123,0.56,25.5,32])\n",
    "print(a)\n",
    "    \n",
    "print(\"after rounding up=\", np.around(a))\n",
    "    \n",
    "print(\"after rounding up to 1st decimal value =\", np.around(a,decimals=1))\n"
   ]
  },
  {
   "cell_type": "code",
   "execution_count": 14,
   "id": "c0080f10",
   "metadata": {},
   "outputs": [
    {
     "name": "stdout",
     "output_type": "stream",
     "text": [
      "[  1.    -5.3  123.    -0.56  25.5   32.  ]\n",
      "\\n\n",
      "[  1.  -6. 123.  -1.  25.  32.]\n",
      "[  1.  -5. 123.  -0.  26.  32.]\n"
     ]
    }
   ],
   "source": [
    "a=np.array ([1.0,-5.3,123,-0.56,25.5,32])\n",
    "    \n",
    "print(a)\n",
    "    \n",
    "print('\\\\n')\n",
    "    \n",
    "print(np.floor(a))\n",
    "    \n",
    "print(np.ceil(a))\n"
   ]
  },
  {
   "cell_type": "code",
   "execution_count": 15,
   "id": "8ba214c0",
   "metadata": {},
   "outputs": [
    {
     "name": "stdout",
     "output_type": "stream",
     "text": [
      "[2 4 6 8]\n"
     ]
    }
   ],
   "source": [
    "import numpy as np\n",
    "a=np.arange(2,9,2)\n",
    "print(a)\n"
   ]
  },
  {
   "cell_type": "code",
   "execution_count": 17,
   "id": "6f933055",
   "metadata": {},
   "outputs": [
    {
     "name": "stdout",
     "output_type": "stream",
     "text": [
      "[1 1]\n"
     ]
    }
   ],
   "source": [
    "y = np.ones(2, dtype=int)\n",
    "print(y)\n",
    "    \n"
   ]
  },
  {
   "cell_type": "code",
   "execution_count": 18,
   "id": "c985b964",
   "metadata": {},
   "outputs": [
    {
     "name": "stdout",
     "output_type": "stream",
     "text": [
      "[1 2 3 4 5 6 7 8]\n"
     ]
    }
   ],
   "source": [
    "arr = np.array([1, 2, 3, 4, 5, 6, 7, 8])\n",
    "print(arr)\n"
   ]
  },
  {
   "cell_type": "code",
   "execution_count": 19,
   "id": "d36b8c66",
   "metadata": {},
   "outputs": [
    {
     "name": "stdout",
     "output_type": "stream",
     "text": [
      "[1 2 3 4 5 6 7 8]\n",
      "[1 3 4 5 6 7 8]\n"
     ]
    }
   ],
   "source": [
    "a = np.array([1, 2, 3, 4, 5, 6, 7, 8])\n",
    "print(a)\n",
    "    \n",
    "a=np.delete(a, 1)\n",
    "print(a)\n"
   ]
  },
  {
   "cell_type": "code",
   "execution_count": 20,
   "id": "2e544d12",
   "metadata": {},
   "outputs": [
    {
     "name": "stdout",
     "output_type": "stream",
     "text": [
      "[19 22 34 14 55 76 47  8]\n",
      "[ 8 14 19 22 34 47 55 76]\n"
     ]
    }
   ],
   "source": [
    "a = np.array([19, 22, 34, 14, 55, 76, 47, 8])\n",
    "print(a)\n",
    "a=np.sort(a)\n",
    "print(a)\n"
   ]
  },
  {
   "cell_type": "code",
   "execution_count": 21,
   "id": "a5f9eec4",
   "metadata": {},
   "outputs": [
    {
     "name": "stdout",
     "output_type": "stream",
     "text": [
      "[[1 2 3]\n",
      " [4 5 6]]\n",
      "dimensions =  2\n"
     ]
    }
   ],
   "source": [
    "import numpy as np\n",
    "    \n",
    "arr = np.array([[1, 2, 3], [4, 5, 6]])\n",
    "a=arr.ndim\n",
    "print(arr) \n",
    "print(\"dimensions = \", a)\n"
   ]
  },
  {
   "cell_type": "code",
   "execution_count": 22,
   "id": "104928ae",
   "metadata": {},
   "outputs": [
    {
     "name": "stdout",
     "output_type": "stream",
     "text": [
      "[[[ 1  2  3]\n",
      "  [ 4  5  6]]\n",
      "\n",
      " [[11 22 33]\n",
      "  [44 55 66]]]\n",
      "dimensions =  3\n",
      "size =  12\n"
     ]
    }
   ],
   "source": [
    "import numpy as np\n",
    "    \n",
    "arr = np.array([[[1, 2, 3], [4, 5, 6]], [[11, 22, 33], [44, 55, 66]]])\n",
    "a=arr.ndim\n",
    "b=arr.size\n",
    "print(arr) \n",
    "print(\"dimensions = \", a)\n",
    "print(\"size = \", b)\n"
   ]
  },
  {
   "cell_type": "code",
   "execution_count": 23,
   "id": "55625334",
   "metadata": {},
   "outputs": [
    {
     "name": "stdout",
     "output_type": "stream",
     "text": [
      "42\n",
      "dimension=  0\n",
      "[1 2 3 4 5]\n",
      "dimension=  1\n",
      "[[1 2 3]\n",
      " [4 5 6]]\n",
      "dimension=  2\n",
      "[[[1 2 3]\n",
      "  [4 5 6]]\n",
      "\n",
      " [[1 2 3]\n",
      "  [4 5 6]]]\n",
      "dimension=  3\n"
     ]
    }
   ],
   "source": [
    "import numpy as np\n",
    "    \n",
    "a = np.array(42)\n",
    "b = np.array([1, 2, 3, 4, 5])\n",
    "c = np.array([[1, 2, 3], [4, 5, 6]])\n",
    "d = np.array([[[1, 2, 3], [4, 5, 6]], [[1, 2, 3], [4, 5, 6]]])\n",
    "print(a)\n",
    "print(\"dimension= \", a.ndim)\n",
    "print(b)\n",
    "print(\"dimension= \", b.ndim)\n",
    "print(c)\n",
    "print(\"dimension= \", c.ndim)\n",
    "print(d)\n",
    "print(\"dimension= \", d.ndim)\n"
   ]
  },
  {
   "cell_type": "code",
   "execution_count": 24,
   "id": "3d9206bb",
   "metadata": {},
   "outputs": [
    {
     "name": "stdout",
     "output_type": "stream",
     "text": [
      "(2, 4)\n"
     ]
    }
   ],
   "source": [
    "import numpy as np\n",
    "    \n",
    "arr = np.array([[1, 2, 3, 4], [5, 6, 7, 8]])\n",
    "    \n",
    "print(arr.shape) \n",
    "   \n"
   ]
  },
  {
   "cell_type": "code",
   "execution_count": 25,
   "id": "e5423963",
   "metadata": {},
   "outputs": [
    {
     "name": "stdout",
     "output_type": "stream",
     "text": [
      "[0 1 2 3 4 5]\n",
      "[[0 1]\n",
      " [2 3]\n",
      " [4 5]]\n"
     ]
    }
   ],
   "source": [
    "a = np.arange(6)\n",
    "print(a)\n",
    "    \n",
    "b = a.reshape(3,2)\n",
    "print(b)\n"
   ]
  },
  {
   "cell_type": "code",
   "execution_count": null,
   "id": "0b62d00d",
   "metadata": {},
   "outputs": [],
   "source": []
  }
 ],
 "metadata": {
  "kernelspec": {
   "display_name": "Python 3",
   "language": "python",
   "name": "python3"
  },
  "language_info": {
   "codemirror_mode": {
    "name": "ipython",
    "version": 3
   },
   "file_extension": ".py",
   "mimetype": "text/x-python",
   "name": "python",
   "nbconvert_exporter": "python",
   "pygments_lexer": "ipython3",
   "version": "3.8.8"
  }
 },
 "nbformat": 4,
 "nbformat_minor": 5
}
